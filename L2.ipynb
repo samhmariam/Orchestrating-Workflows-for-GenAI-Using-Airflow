{
 "cells": [
  {
   "cell_type": "code",
   "execution_count": 1,
   "id": "2b585f3c",
   "metadata": {},
   "outputs": [
    {
     "name": "stderr",
     "output_type": "stream",
     "text": [
      "/workspaces/Orchestrating-Workflows-for-GenAI-Using-Airflow/.venv/lib/python3.12/site-packages/tqdm/auto.py:21: TqdmWarning: IProgress not found. Please update jupyter and ipywidgets. See https://ipywidgets.readthedocs.io/en/stable/user_install.html\n",
      "  from .autonotebook import tqdm as notebook_tqdm\n",
      "/workspaces/Orchestrating-Workflows-for-GenAI-Using-Airflow/.venv/lib/python3.12/site-packages/google/protobuf/runtime_version.py:98: UserWarning: Protobuf gencode version 5.27.2 is exactly one major version older than the runtime version 6.31.1 at v1/aggregate.proto. Please update the gencode to avoid compatibility violations in the next runtime release.\n",
      "  warnings.warn(\n",
      "/workspaces/Orchestrating-Workflows-for-GenAI-Using-Airflow/.venv/lib/python3.12/site-packages/google/protobuf/runtime_version.py:98: UserWarning: Protobuf gencode version 5.27.2 is exactly one major version older than the runtime version 6.31.1 at v1/base.proto. Please update the gencode to avoid compatibility violations in the next runtime release.\n",
      "  warnings.warn(\n",
      "/workspaces/Orchestrating-Workflows-for-GenAI-Using-Airflow/.venv/lib/python3.12/site-packages/google/protobuf/runtime_version.py:98: UserWarning: Protobuf gencode version 5.27.2 is exactly one major version older than the runtime version 6.31.1 at v1/base_search.proto. Please update the gencode to avoid compatibility violations in the next runtime release.\n",
      "  warnings.warn(\n",
      "/workspaces/Orchestrating-Workflows-for-GenAI-Using-Airflow/.venv/lib/python3.12/site-packages/google/protobuf/runtime_version.py:98: UserWarning: Protobuf gencode version 5.27.2 is exactly one major version older than the runtime version 6.31.1 at v1/batch.proto. Please update the gencode to avoid compatibility violations in the next runtime release.\n",
      "  warnings.warn(\n",
      "/workspaces/Orchestrating-Workflows-for-GenAI-Using-Airflow/.venv/lib/python3.12/site-packages/google/protobuf/runtime_version.py:98: UserWarning: Protobuf gencode version 5.27.2 is exactly one major version older than the runtime version 6.31.1 at v1/batch_delete.proto. Please update the gencode to avoid compatibility violations in the next runtime release.\n",
      "  warnings.warn(\n",
      "/workspaces/Orchestrating-Workflows-for-GenAI-Using-Airflow/.venv/lib/python3.12/site-packages/google/protobuf/runtime_version.py:98: UserWarning: Protobuf gencode version 5.27.2 is exactly one major version older than the runtime version 6.31.1 at v1/search_get.proto. Please update the gencode to avoid compatibility violations in the next runtime release.\n",
      "  warnings.warn(\n",
      "/workspaces/Orchestrating-Workflows-for-GenAI-Using-Airflow/.venv/lib/python3.12/site-packages/google/protobuf/runtime_version.py:98: UserWarning: Protobuf gencode version 5.27.2 is exactly one major version older than the runtime version 6.31.1 at v1/generative.proto. Please update the gencode to avoid compatibility violations in the next runtime release.\n",
      "  warnings.warn(\n",
      "/workspaces/Orchestrating-Workflows-for-GenAI-Using-Airflow/.venv/lib/python3.12/site-packages/google/protobuf/runtime_version.py:98: UserWarning: Protobuf gencode version 5.27.2 is exactly one major version older than the runtime version 6.31.1 at v1/properties.proto. Please update the gencode to avoid compatibility violations in the next runtime release.\n",
      "  warnings.warn(\n",
      "/workspaces/Orchestrating-Workflows-for-GenAI-Using-Airflow/.venv/lib/python3.12/site-packages/google/protobuf/runtime_version.py:98: UserWarning: Protobuf gencode version 5.27.2 is exactly one major version older than the runtime version 6.31.1 at v1/tenants.proto. Please update the gencode to avoid compatibility violations in the next runtime release.\n",
      "  warnings.warn(\n"
     ]
    }
   ],
   "source": [
    "import os\n",
    "import json\n",
    "from IPython.display import JSON\n",
    "\n",
    "from fastembed import TextEmbedding\n",
    "\n",
    "import weaviate\n",
    "from weaviate.classes.data import DataObject\n",
    "\n",
    "from helper import suppress_output"
   ]
  },
  {
   "cell_type": "code",
   "execution_count": 2,
   "id": "6a8041aa",
   "metadata": {},
   "outputs": [],
   "source": [
    "COLLECTION_NAME = \"Books\"  # capitalize the first letter of collection names\n",
    "BOOK_DESCRIPTION_FOLDER = \"include/data\"\n",
    "EMBEDDING_MODEL_NAME = \"BAAI/bge-small-en-v1.5\""
   ]
  },
  {
   "cell_type": "markdown",
   "id": "da070045",
   "metadata": {},
   "source": [
    "### Instantiate Embedded Weaviate client"
   ]
  },
  {
   "cell_type": "code",
   "execution_count": 3,
   "id": "80dddc19",
   "metadata": {},
   "outputs": [
    {
     "name": "stdout",
     "output_type": "stream",
     "text": [
      "Started new embedded Weaviate instance.\n",
      "Client is ready: True\n"
     ]
    }
   ],
   "source": [
    "with suppress_output():\n",
    "    client = weaviate.connect_to_embedded(\n",
    "        persistence_data_path= \"tmp/weaviate\",\n",
    "    )\n",
    "print(\"Started new embedded Weaviate instance.\")\n",
    "print(f\"Client is ready: {client.is_ready()}\")"
   ]
  },
  {
   "cell_type": "markdown",
   "id": "07cbbe6c",
   "metadata": {},
   "source": [
    "### Create the collection"
   ]
  },
  {
   "cell_type": "code",
   "execution_count": 4,
   "id": "0049b3ef",
   "metadata": {},
   "outputs": [
    {
     "name": "stdout",
     "output_type": "stream",
     "text": [
      "Collection Books already exists. No action taken.\n"
     ]
    }
   ],
   "source": [
    "existing_collections = client.collections.list_all()\n",
    "existing_collection_names = existing_collections.keys()\n",
    "\n",
    "if COLLECTION_NAME not in existing_collection_names:\n",
    "    print(f\"Collection {COLLECTION_NAME} does not exist yet. Creating it...\")\n",
    "    collection = client.collections.create(name=COLLECTION_NAME)\n",
    "    print(f\"Collection {COLLECTION_NAME} created successfully.\")\n",
    "else:\n",
    "    print(f\"Collection {COLLECTION_NAME} already exists. No action taken.\")\n",
    "    collection = client.collections.get(COLLECTION_NAME)"
   ]
  },
  {
   "cell_type": "markdown",
   "id": "6d85af18",
   "metadata": {},
   "source": [
    "### Extract text from local files"
   ]
  },
  {
   "cell_type": "code",
   "execution_count": 5,
   "id": "dd2fedff",
   "metadata": {},
   "outputs": [
    {
     "name": "stdout",
     "output_type": "stream",
     "text": [
      "The following files with book descriptions were found: ['book_descriptions_2.txt', 'book_descriptions_1.txt']\n"
     ]
    }
   ],
   "source": [
    "# list the book description files\n",
    "book_description_files = [\n",
    "    f for f in os.listdir(BOOK_DESCRIPTION_FOLDER)\n",
    "    if f.endswith('.txt')\n",
    "]\n",
    "\n",
    "print(f\"The following files with book descriptions were found: {book_description_files}\")"
   ]
  },
  {
   "cell_type": "code",
   "execution_count": 6,
   "id": "69515149",
   "metadata": {},
   "outputs": [],
   "source": [
    "book_description_files = [\n",
    "    f for f in os.listdir(BOOK_DESCRIPTION_FOLDER)\n",
    "    if f.endswith('.txt')\n",
    "]\n",
    "\n",
    "list_of_book_data = []\n",
    "\n",
    "for book_description_file in book_description_files:\n",
    "    with open(\n",
    "        os.path.join(BOOK_DESCRIPTION_FOLDER, book_description_file), \"r\"\n",
    "    ) as f:\n",
    "        book_descriptions = f.readlines()\n",
    "    \n",
    "    titles = [\n",
    "        book_description.split(\":::\")[1].strip()\n",
    "        for book_description in book_descriptions\n",
    "    ]\n",
    "    authors = [\n",
    "        book_description.split(\":::\")[2].strip()\n",
    "        for book_description in book_descriptions\n",
    "    ]\n",
    "    book_description_text = [\n",
    "        book_description.split(\":::\")[3].strip()\n",
    "        for book_description in book_descriptions\n",
    "    ]\n",
    "    \n",
    "    book_descriptions = [\n",
    "        {\n",
    "            \"title\": title,\n",
    "            \"author\": author,\n",
    "            \"description\": description,\n",
    "        }\n",
    "        for title, author, description in zip(\n",
    "            titles, authors, book_description_text\n",
    "        )\n",
    "    ]\n",
    "\n",
    "    list_of_book_data.append(book_descriptions)"
   ]
  },
  {
   "cell_type": "code",
   "execution_count": 7,
   "id": "66f7e24a",
   "metadata": {},
   "outputs": [
    {
     "name": "stderr",
     "output_type": "stream",
     "text": [
      "/workspaces/Orchestrating-Workflows-for-GenAI-Using-Airflow/.venv/lib/python3.12/site-packages/IPython/core/display.py:636: UserWarning: JSON expects JSONable dict or list, not JSON strings\n",
      "  warnings.warn(\"JSON expects JSONable dict or list, not JSON strings\")\n"
     ]
    },
    {
     "data": {
      "text/plain": [
       "<IPython.core.display.JSON object>"
      ]
     },
     "execution_count": 7,
     "metadata": {
      "application/json": {
       "expanded": false,
       "root": "root"
      }
     },
     "output_type": "execute_result"
    }
   ],
   "source": [
    "JSON(json.dumps(list_of_book_data))"
   ]
  },
  {
   "cell_type": "markdown",
   "id": "b181332d",
   "metadata": {},
   "source": [
    "### Create vector embeddings from descriptions"
   ]
  },
  {
   "cell_type": "code",
   "execution_count": 8,
   "id": "a9318070",
   "metadata": {},
   "outputs": [
    {
     "name": "stderr",
     "output_type": "stream",
     "text": [
      "Fetching 5 files: 100%|██████████| 5/5 [00:00<00:00, 14.35it/s]\n"
     ]
    }
   ],
   "source": [
    "embedding_model = TextEmbedding(EMBEDDING_MODEL_NAME)  \n",
    "\n",
    "list_of_description_embeddings = []\n",
    "\n",
    "for book_data in list_of_book_data:\n",
    "    book_descriptions = [book[\"description\"] for book in book_data]\n",
    "    description_embeddings = [\n",
    "        list(embedding_model.embed([desc]))[0] for desc in book_descriptions\n",
    "    ]\n",
    "\n",
    "    list_of_description_embeddings.append(description_embeddings)"
   ]
  },
  {
   "cell_type": "markdown",
   "id": "302a73a2",
   "metadata": {},
   "source": [
    "### Load embeddings to Weaviate"
   ]
  },
  {
   "cell_type": "code",
   "execution_count": 9,
   "id": "d90a47be",
   "metadata": {},
   "outputs": [],
   "source": [
    "for book_data_list, emb_list in zip(list_of_book_data, list_of_description_embeddings):\n",
    "    items = []\n",
    "    \n",
    "    for book_data, emb in zip(book_data_list, emb_list):\n",
    "        item = DataObject(\n",
    "            properties={\n",
    "                \"title\": book_data[\"title\"],\n",
    "                \"author\": book_data[\"author\"],\n",
    "                \"description\": book_data[\"description\"],\n",
    "            },\n",
    "            vector=emb\n",
    "        )\n",
    "        items.append(item)\n",
    "    \n",
    "    collection.data.insert_many(items)"
   ]
  },
  {
   "cell_type": "markdown",
   "id": "c770ebeb",
   "metadata": {},
   "source": [
    "### Query for a book recommendation using semantic search"
   ]
  },
  {
   "cell_type": "code",
   "execution_count": 10,
   "id": "8d6872ea",
   "metadata": {},
   "outputs": [
    {
     "name": "stdout",
     "output_type": "stream",
     "text": [
      "You should read: The Idea of the World (2019) by Bernardo Kastrup\n",
      "Description:\n",
      "A rigorous case for the primacy of mind in nature, from philosophy to neuroscience, psychology and physics. The Idea of the World offers a grounded alternative to the frenzy of unrestrained abstractions and unexamined assumptions in philosophy and science today. This book examines what can be learned about the nature of reality based on conceptual parsimony, straightforward logic and empirical evidence from fields as diverse as physics and neuroscience. It compiles an overarching case for idealism - the notion that reality is essentially mental - from ten original articles the author has previously published in leading academic journals. The case begins with an exposition of the logical fallacies and internal contradictions of the reigning physicalist ontology and its popular alternatives, such as bottom-up panpsychism. It then advances a compelling formulation of idealism that elegantly makes sense of - and reconciles - classical and quantum worlds. The main objections to idealism are systematically refuted and empirical evidence is reviewed that corroborates the formulation presented here. The book closes with an analysis of the hidden psychological motivations behind mainstream physicalism and the implications of idealism for the way we relate to the world.\n"
     ]
    }
   ],
   "source": [
    "query_str = \"A philosophical book\"\n",
    "\n",
    "embedding_model = TextEmbedding(EMBEDDING_MODEL_NAME)  \n",
    "collection = client.collections.get(COLLECTION_NAME)\n",
    "\n",
    "query_emb = list(embedding_model.embed([query_str]))[0]\n",
    "\n",
    "results = collection.query.near_vector(\n",
    "    near_vector=query_emb,\n",
    "    limit=1,\n",
    ")\n",
    "for result in results.objects:\n",
    "    print(f\"You should read: {result.properties['title']} by {result.properties['author']}\")\n",
    "    print(\"Description:\")\n",
    "    print(result.properties[\"description\"])"
   ]
  },
  {
   "cell_type": "markdown",
   "id": "cb767977",
   "metadata": {},
   "source": [
    "### Cleanup Resources"
   ]
  },
  {
   "cell_type": "code",
   "execution_count": 11,
   "id": "e4b721f7",
   "metadata": {},
   "outputs": [],
   "source": [
    "## Remove a collection from an existing Weaviate instance\n",
    "\n",
    "client.collections.delete(COLLECTION_NAME)"
   ]
  },
  {
   "cell_type": "code",
   "execution_count": 12,
   "id": "686d8200",
   "metadata": {},
   "outputs": [
    {
     "name": "stdout",
     "output_type": "stream",
     "text": [
      "Verified: 'tmp/weaviate' no longer exists.\n",
      "Weaviate embedded data at 'tmp/weaviate' deleted.\n"
     ]
    }
   ],
   "source": [
    "## Delete a Weaviate instance\n",
    "## This cell can take a few seconds to run  \n",
    "\n",
    "import shutil\n",
    "\n",
    "client.close()\n",
    "\n",
    "EMBEDDED_WEAVIATE_PERSISTENCE_PATH = \"tmp/weaviate\"\n",
    "\n",
    "if os.path.exists(EMBEDDED_WEAVIATE_PERSISTENCE_PATH):\n",
    "    shutil.rmtree(EMBEDDED_WEAVIATE_PERSISTENCE_PATH)\n",
    "    if not os.path.exists(EMBEDDED_WEAVIATE_PERSISTENCE_PATH):\n",
    "        print(f\"Verified: '{EMBEDDED_WEAVIATE_PERSISTENCE_PATH}' no longer exists.\")\n",
    "        print(f\"Weaviate embedded data at '{EMBEDDED_WEAVIATE_PERSISTENCE_PATH}' deleted.\")"
   ]
  }
 ],
 "metadata": {
  "kernelspec": {
   "display_name": ".venv",
   "language": "python",
   "name": "python3"
  },
  "language_info": {
   "codemirror_mode": {
    "name": "ipython",
    "version": 3
   },
   "file_extension": ".py",
   "mimetype": "text/x-python",
   "name": "python",
   "nbconvert_exporter": "python",
   "pygments_lexer": "ipython3",
   "version": "3.12.1"
  }
 },
 "nbformat": 4,
 "nbformat_minor": 5
}
